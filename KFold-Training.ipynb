{
 "metadata": {
  "language_info": {
   "codemirror_mode": {
    "name": "ipython",
    "version": 3
   },
   "file_extension": ".py",
   "mimetype": "text/x-python",
   "name": "python",
   "nbconvert_exporter": "python",
   "pygments_lexer": "ipython3",
   "version": "3.7.6"
  },
  "orig_nbformat": 2,
  "kernelspec": {
   "name": "python376jvsc74a57bd0e195ad74c1f1f25b431fdad758182e5c1b96f087f382f48f0b05b5503f70a0ae",
   "display_name": "Python 3.7.6 64-bit ('base': conda)"
  }
 },
 "nbformat": 4,
 "nbformat_minor": 2,
 "cells": [
  {
   "cell_type": "code",
   "execution_count": 1,
   "metadata": {},
   "outputs": [],
   "source": [
    "#Importa modelos\n",
    "from sklearn.linear_model import LogisticRegression\n",
    "from sklearn.svm import SVC\n",
    "from sklearn.ensemble import RandomForestClassifier\n",
    "\n",
    "from sklearn.metrics import confusion_matrix\n",
    "\n",
    "import numpy as np"
   ]
  },
  {
   "cell_type": "code",
   "execution_count": 2,
   "metadata": {},
   "outputs": [],
   "source": [
    "from sklearn.datasets import load_digits\n",
    "digits = load_digits()\n",
    "\n",
    "from sklearn.datasets import load_iris\n",
    "iris = load_iris()\n",
    "\n",
    "from sklearn.datasets import load_breast_cancer\n",
    "breast_cancer = load_breast_cancer()\n",
    "\n",
    "#escolhe dataset\n",
    "dt = breast_cancer"
   ]
  },
  {
   "cell_type": "code",
   "execution_count": 3,
   "metadata": {},
   "outputs": [],
   "source": [
    "#Estes metodos servem para matrizes não binárias\n",
    "#A fazer: um metodo que dado um elemento da matriz, transforma o \"resto\" da matriz toda em uma matriz binaria para melhor fazer a analise\n",
    "def accuracy(matrix):\n",
    "    trace = matrix.trace()\n",
    "    total_sum = matrix.sum()\n",
    "    accuracy = trace/total_sum\n",
    "    return accuracy\n",
    "\n",
    "def recall(matrix, element_index):\n",
    "    return matrix[element_index][element_index]/matrix[element_index].sum()"
   ]
  },
  {
   "cell_type": "code",
   "execution_count": 29,
   "metadata": {},
   "outputs": [
    {
     "output_type": "execute_result",
     "data": {
      "text/plain": [
       "\"\\n    #SVM\\n    svm_model = SVC(gamma='auto')\\n    svm_model.fit(X_train, y_train)\\n\\n    y_pred = svm_model.predict(X_test)\\n    cm = confusion_matrix(y_test, y_pred)\\n\\n    scores_svm.append(svm_model.score(X_test, y_test)) #.score() retorna accuracy\\n    cm_svm.append(cm)\\n    y_pred_svm.append(y_pred)\\n    \\n    #Random Forest\\n    rf_model = RandomForestClassifier(n_estimators=40)\\n    rf_model.fit(X_train, y_train)\\n\\n    y_pred = rf_model.predict(X_test)\\n    cm = confusion_matrix(y_test, y_pred)\\n    \\n    scores_rf.append(rf_model.score(X_test, y_test)) #.score() retorna accuracy\\n    cm_rf.append(cm)\\n    y_pred_rf.append(y_pred)\\n\""
      ]
     },
     "metadata": {},
     "execution_count": 29
    }
   ],
   "source": [
    "#stratifiedKFold = KFold que conserva a % de cada classe nos folds\n",
    "from sklearn.model_selection import StratifiedKFold\n",
    "folds = StratifiedKFold(n_splits=5)\n",
    "\n",
    "from sklearn import metrics\n",
    "\n",
    "acc_logistic = []\n",
    "acc_svm = []\n",
    "acc_rf = []\n",
    "\n",
    "error_logistic = []\n",
    "\n",
    "recall_logistic = []\n",
    "\n",
    "precision_logistic = []\n",
    "\n",
    "mcc_logistic = []\n",
    "\n",
    "f1_logistic = []\n",
    "\n",
    "kappa_logistic = []\n",
    "\n",
    "roc_auc_logistic = []\n",
    "\n",
    "cm_logistic = []\n",
    "cm_svm = []\n",
    "cm_rf = []\n",
    "\n",
    "y_pred_logistic = []\n",
    "y_pred_svm = []\n",
    "y_pred_rf = []\n",
    "\n",
    "roc_auc_logistic = []\n",
    "\n",
    "for train_index, test_index in folds.split(dt.data,dt.target):\n",
    "    X_train, X_test, y_train, y_test = dt.data[train_index], dt.data[test_index], \\\n",
    "                                       dt.target[train_index], dt.target[test_index]\n",
    "    \n",
    "    #Logistic Regression\n",
    "    logistic_model = LogisticRegression(solver='liblinear',multi_class='ovr')\n",
    "    logistic_model.fit(X_train, y_train)\n",
    "\n",
    "    y_pred = logistic_model.predict(X_test)\n",
    "    y_pred_logistic.append(y_pred)\n",
    "\n",
    "    cm = confusion_matrix(y_test, y_pred)\n",
    "    cm_logistic.append(cm)\n",
    "\n",
    "\n",
    "    acc = metrics.accuracy_score(y_test, y_pred)\n",
    "    acc_logistic.append(acc)\n",
    "    error_logistic.append(1-acc)\n",
    "    recall_logistic.append(metrics.recall_score(y_test, y_pred)) #sensibilidade\n",
    "    precision_logistic.append(metrics.precision_score(y_test, y_pred)) \n",
    "    mcc_logistic.append(metrics.matthews_corrcoef(y_test, y_pred))\n",
    "    f1_logistic.append(metrics.f1_score(y_test, y_pred))\n",
    "    kappa_logistic.append(metrics.cohen_kappa_score(y_test, y_pred))\n",
    "    roc_auc_logistic.append(metrics.roc_auc_score(y_test, y_pred))\n",
    "\n",
    "    \n",
    "\n",
    "    \n",
    "    # # # # # # # # # print(logistic_model.predict_proba())\n",
    "\n",
    "'''\n",
    "    #SVM\n",
    "    svm_model = SVC(gamma='auto')\n",
    "    svm_model.fit(X_train, y_train)\n",
    "\n",
    "    y_pred = svm_model.predict(X_test)\n",
    "    cm = confusion_matrix(y_test, y_pred)\n",
    "\n",
    "    scores_svm.append(svm_model.score(X_test, y_test)) #.score() retorna accuracy\n",
    "    cm_svm.append(cm)\n",
    "    y_pred_svm.append(y_pred)\n",
    "    \n",
    "    #Random Forest\n",
    "    rf_model = RandomForestClassifier(n_estimators=40)\n",
    "    rf_model.fit(X_train, y_train)\n",
    "\n",
    "    y_pred = rf_model.predict(X_test)\n",
    "    cm = confusion_matrix(y_test, y_pred)\n",
    "    \n",
    "    scores_rf.append(rf_model.score(X_test, y_test)) #.score() retorna accuracy\n",
    "    cm_rf.append(cm)\n",
    "    y_pred_rf.append(y_pred)\n",
    "'''"
   ]
  },
  {
   "cell_type": "code",
   "execution_count": 30,
   "metadata": {},
   "outputs": [
    {
     "output_type": "stream",
     "name": "stdout",
     "text": [
      "Acuracia do Logistic Regression: [0.9298245614035088, 0.9385964912280702, 0.9736842105263158, 0.9473684210526315, 0.9646017699115044]\nAcuracia média: 0.9508150908244062\nDesvio padrão na acuracia: 0.01621632011383414\n\nErro:  [0.07017543859649122, 0.06140350877192979, 0.02631578947368418, 0.052631578947368474, 0.03539823008849563]\nErro Médio 0.04918490917559386\nDesvio padrão no erro: 0.01621632011383414\n\nRecall:  [0.9859154929577465, 0.971830985915493, 0.9861111111111112, 0.9583333333333334, 0.9577464788732394]\nRecall médio: 0.9719874804381847\nDesvio padrão no recall: 0.01251185697967833\n\nPrecision:  [0.9090909090909091, 0.9324324324324325, 0.9726027397260274, 0.9583333333333334, 0.9855072463768116]\nPrecision médio: 0.9515933321919029\nDesvio padrão no precision: 0.02760642115418489\n\nMCC:  [0.8520848856485194, 0.8688882312695652, 0.9433397594898876, 0.8869047619047619, 0.9255939267362071]\nMCC médio: 0.8953623130097881\nDesvio padrão no MCC: 0.03423778244263563\n\nF1:  [0.9459459459459459, 0.9517241379310345, 0.9793103448275863, 0.9583333333333334, 0.9714285714285714]\nF1 médio: 0.9613484666932942\nDesvio padrão no F1: 0.012354707250762518\n\nCohen-Kappa:  [0.8464129336476929, 0.8674858850880106, 0.9431704885343968, 0.8869047619047619, 0.9249418797741614]\nCohen-Kappa médio: 0.8937831897898046\nDesvio padrão no Cohen-Kappa: 0.03575687740993851\n\nROC AUC:  [0.9115623976416638, 0.9277759580740256, 0.9692460317460316, 0.943452380952381, 0.9669684775318579]\nROC AUC médio: 0.9438010491891919\nDesvio padrão no ROC AUC: 0.022272999985283173\n\nconfusion matrix 0\n[[36  7]\n [ 1 70]]\n\nconfusion matrix 1\n[[38  5]\n [ 2 69]]\n\nconfusion matrix 2\n[[40  2]\n [ 1 71]]\n\nconfusion matrix 3\n[[39  3]\n [ 3 69]]\n\nconfusion matrix 4\n[[41  1]\n [ 3 68]]\n"
     ]
    }
   ],
   "source": [
    "print(\"Acuracia do Logistic Regression:\", acc_logistic)\n",
    "print(\"Acuracia média:\", np.mean(acc_logistic))\n",
    "print(\"Desvio padrão na acuracia:\", np.std(acc_logistic))\n",
    "\n",
    "print(\"\\nErro: \", error_logistic)\n",
    "print(\"Erro Médio\", np.mean(error_logistic))\n",
    "print(\"Desvio padrão no erro:\", np.std(error_logistic))\n",
    "\n",
    "print(\"\\nRecall: \", recall_logistic)\n",
    "print(\"Recall médio:\", np.mean(recall_logistic))\n",
    "print(\"Desvio padrão no recall:\", np.std(recall_logistic))\n",
    "\n",
    "print(\"\\nPrecision: \", precision_logistic)\n",
    "print(\"Precision médio:\", np.mean(precision_logistic))\n",
    "print(\"Desvio padrão no precision:\", np.std(precision_logistic))\n",
    "\n",
    "print(\"\\nMCC: \", mcc_logistic)\n",
    "print(\"MCC médio:\", np.mean(mcc_logistic))\n",
    "print(\"Desvio padrão no MCC:\", np.std(mcc_logistic))\n",
    "\n",
    "print(\"\\nF1: \", f1_logistic)\n",
    "print(\"F1 médio:\", np.mean(f1_logistic))\n",
    "print(\"Desvio padrão no F1:\", np.std(f1_logistic))\n",
    "\n",
    "print(\"\\nCohen-Kappa: \", kappa_logistic)\n",
    "print(\"Cohen-Kappa médio:\", np.mean(kappa_logistic))\n",
    "print(\"Desvio padrão no Cohen-Kappa:\", np.std(kappa_logistic))\n",
    "\n",
    "print(\"\\nROC AUC: \", roc_auc_logistic)\n",
    "print(\"ROC AUC médio:\", np.mean(roc_auc_logistic))\n",
    "print(\"Desvio padrão no ROC AUC:\", np.std(roc_auc_logistic))\n",
    "\n",
    "for i in range(len(cm_logistic)):\n",
    "    print(\"\\nconfusion matrix\", i)\n",
    "    print(cm_logistic[i])"
   ]
  },
  {
   "cell_type": "code",
   "execution_count": null,
   "metadata": {},
   "outputs": [],
   "source": []
  },
  {
   "cell_type": "code",
   "execution_count": null,
   "metadata": {},
   "outputs": [],
   "source": [
    "print(\"Acuracia do Logistic Regression:\", scores_svm)\n",
    "print(\"Média:\", np.mean(scores_svm))\n",
    "print(\"Desvio padrão:\", np.std(scores_svm))\n",
    "erro = [1-i for i in scores_svm]\n",
    "print(\"Erro: \", erro)\n",
    "print(\"Erro Médio\", np.mean(erro))"
   ]
  },
  {
   "cell_type": "code",
   "execution_count": null,
   "metadata": {},
   "outputs": [],
   "source": [
    "print(\"Acuracia do Logistic Regression:\", scores_rf)\n",
    "print(\"Média:\", np.mean(scores_rf))\n",
    "print(\"Desvio padrão:\", np.std(scores_rf))\n",
    "erro = [1-i for i in scores_rf]\n",
    "print(\"Erro: \", erro)\n",
    "print(\"Erro Médio\", np.mean(erro))"
   ]
  },
  {
   "cell_type": "code",
   "execution_count": null,
   "metadata": {},
   "outputs": [],
   "source": []
  }
 ]
}
{
 "metadata": {
  "language_info": {
   "codemirror_mode": {
    "name": "ipython",
    "version": 3
   },
   "file_extension": ".py",
   "mimetype": "text/x-python",
   "name": "python",
   "nbconvert_exporter": "python",
   "pygments_lexer": "ipython3",
   "version": "3.7.6-final"
  },
  "orig_nbformat": 2,
  "kernelspec": {
   "name": "python376jvsc74a57bd0e195ad74c1f1f25b431fdad758182e5c1b96f087f382f48f0b05b5503f70a0ae",
   "display_name": "Python 3.7.6 64-bit ('base': conda)"
  }
 },
 "nbformat": 4,
 "nbformat_minor": 2,
 "cells": [
  {
   "cell_type": "code",
   "execution_count": 68,
   "metadata": {},
   "outputs": [],
   "source": [
    "#Importa modelos\n",
    "from sklearn.linear_model import LogisticRegression\n",
    "from sklearn.svm import SVC\n",
    "from sklearn.ensemble import RandomForestClassifier\n",
    "\n",
    "from sklearn.metrics import confusion_matrix\n",
    "\n",
    "import numpy as np"
   ]
  },
  {
   "cell_type": "code",
   "execution_count": 106,
   "metadata": {},
   "outputs": [],
   "source": [
    "from sklearn.datasets import load_digits\n",
    "digits = load_digits()\n",
    "\n",
    "from sklearn.datasets import load_iris\n",
    "iris = load_iris()\n",
    "\n",
    "#escolhe dataset\n",
    "dt = iris"
   ]
  },
  {
   "cell_type": "code",
   "execution_count": 107,
   "metadata": {},
   "outputs": [],
   "source": [
    "def accuracy(matrix):\n",
    "    trace = matrix.trace()\n",
    "    total_sum = matrix.sum()\n",
    "    accuracy = trace/total_sum\n",
    "    return accuracy"
   ]
  },
  {
   "cell_type": "code",
   "execution_count": 108,
   "metadata": {},
   "outputs": [],
   "source": [
    "#stratifiedKFold = KFold que conserva a % de cada classe nos folds\n",
    "from sklearn.model_selection import StratifiedKFold\n",
    "folds = StratifiedKFold(n_splits=5)\n",
    "\n",
    "scores_logistic = []\n",
    "scores_svm = []\n",
    "scores_rf = []\n",
    "\n",
    "cm_logistic = []\n",
    "cm_svm = []\n",
    "cm_rf = []\n",
    "\n",
    "for train_index, test_index in folds.split(dt.data,dt.target):\n",
    "    X_train, X_test, y_train, y_test = dt.data[train_index], dt.data[test_index], \\\n",
    "                                       dt.target[train_index], dt.target[test_index]\n",
    "    \n",
    "    #Logistic Regression\n",
    "    logistic_model = LogisticRegression(solver='liblinear',multi_class='ovr')\n",
    "    logistic_model.fit(X_train, y_train)\n",
    "\n",
    "    y_pred = logistic_model.predict(X_test)\n",
    "    cm = confusion_matrix(y_test, y_pred)\n",
    "\n",
    "    scores_logistic.append(logistic_model.score(X_test, y_test)) #.score() retorna accuracy\n",
    "    cm_logistic.append(cm)\n",
    "    \n",
    "\n",
    "    #SVM\n",
    "    svm_model = SVC(gamma='auto')\n",
    "    svm_model.fit(X_train, y_train)\n",
    "\n",
    "    y_pred = svm_model.predict(X_test)\n",
    "    cm = confusion_matrix(y_test, y_pred)\n",
    "\n",
    "    scores_svm.append(svm_model.score(X_test, y_test))\n",
    "    cm_svm.append(cm)\n",
    "    \n",
    "    #Random Forest\n",
    "    rf_model = RandomForestClassifier(n_estimators=40)\n",
    "    rf_model.fit(X_train, y_train)\n",
    "\n",
    "    y_pred = rf_model.predict(X_test)\n",
    "    cm = confusion_matrix(y_test, y_pred)\n",
    "    \n",
    "    scores_rf.append(rf_model.score(X_test, y_test))\n",
    "    cm_rf.append(cm)"
   ]
  },
  {
   "cell_type": "code",
   "execution_count": 109,
   "metadata": {},
   "outputs": [
    {
     "output_type": "stream",
     "name": "stdout",
     "text": [
      "Acuracia do Logistic Regression: [1.0, 0.9666666666666667, 0.9333333333333333, 0.9, 1.0]\nMédia: 0.9600000000000002\nDesvio padrão: 0.038873012632301994\n"
     ]
    }
   ],
   "source": [
    "print(\"Acuracia do Logistic Regression:\", scores_logistic)\n",
    "print(\"Média:\", np.mean(scores_logistic))\n",
    "print(\"Desvio padrão:\", np.std(scores_logistic))"
   ]
  },
  {
   "cell_type": "code",
   "execution_count": 110,
   "metadata": {},
   "outputs": [
    {
     "output_type": "stream",
     "name": "stdout",
     "text": [
      "Acuracia do Logistic Regression: [0.9666666666666667, 1.0, 0.9666666666666667, 0.9666666666666667, 1.0]\nMédia: 0.9800000000000001\nDesvio padrão: 0.016329931618554516\n"
     ]
    }
   ],
   "source": [
    "print(\"Acuracia do Logistic Regression:\", scores_svm)\n",
    "print(\"Média:\", np.mean(scores_svm))\n",
    "print(\"Desvio padrão:\", np.std(scores_svm))"
   ]
  },
  {
   "cell_type": "code",
   "execution_count": 111,
   "metadata": {},
   "outputs": [
    {
     "output_type": "stream",
     "name": "stdout",
     "text": [
      "Acuracia do Logistic Regression: [0.9666666666666667, 0.9666666666666667, 0.9333333333333333, 0.9333333333333333, 1.0]\nMédia: 0.96\nDesvio padrão: 0.024944382578492935\n"
     ]
    }
   ],
   "source": [
    "print(\"Acuracia do Logistic Regression:\", scores_rf)\n",
    "print(\"Média:\", np.mean(scores_rf))\n",
    "print(\"Desvio padrão:\", np.std(scores_rf))"
   ]
  }
 ]
}
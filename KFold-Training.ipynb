{
 "metadata": {
  "language_info": {
   "codemirror_mode": {
    "name": "ipython",
    "version": 3
   },
   "file_extension": ".py",
   "mimetype": "text/x-python",
   "name": "python",
   "nbconvert_exporter": "python",
   "pygments_lexer": "ipython3",
   "version": "3.7.6"
  },
  "orig_nbformat": 2,
  "kernelspec": {
   "name": "python3",
   "display_name": "Python 3.7.6 64-bit ('base': conda)"
  },
  "interpreter": {
   "hash": "e195ad74c1f1f25b431fdad758182e5c1b96f087f382f48f0b05b5503f70a0ae"
  }
 },
 "nbformat": 4,
 "nbformat_minor": 2,
 "cells": [
  {
   "cell_type": "code",
   "execution_count": 152,
   "metadata": {},
   "outputs": [],
   "source": [
    "#Importa modelos\n",
    "from sklearn.linear_model import LogisticRegression\n",
    "from sklearn.svm import SVC\n",
    "from sklearn.ensemble import RandomForestClassifier\n",
    "\n",
    "from sklearn.metrics import confusion_matrix\n",
    "\n",
    "import numpy as np\n",
    "import pandas as pd\n",
    "\n",
    "import matplotlib as mpl\n",
    "import matplotlib.pyplot as plt"
   ]
  },
  {
   "cell_type": "code",
   "execution_count": 169,
   "metadata": {},
   "outputs": [],
   "source": [
    "from sklearn.datasets import load_digits\n",
    "digits = load_digits()\n",
    "\n",
    "from sklearn.datasets import load_iris\n",
    "iris = load_iris()\n",
    "\n",
    "from sklearn.datasets import load_breast_cancer\n",
    "breast_cancer = load_breast_cancer()\n",
    "\n",
    "#escolhe dataset\n",
    "dt = digits"
   ]
  },
  {
   "cell_type": "code",
   "execution_count": 170,
   "metadata": {},
   "outputs": [
    {
     "output_type": "execute_result",
     "data": {
      "text/plain": [
       "'#Estes metodos servem para matrizes não binárias\\n#A fazer: um metodo que dado um elemento da matriz, transforma o \"resto\" da matriz toda em uma matriz binaria para melhor fazer a analise\\ndef accuracy(matrix):\\n    trace = matrix.trace()\\n    total_sum = matrix.sum()\\n    accuracy = trace/total_sum\\n    return accuracy\\n\\ndef recall(matrix, element_index):\\n    return matrix[element_index][element_index]/matrix[element_index].sum()'"
      ]
     },
     "metadata": {},
     "execution_count": 170
    }
   ],
   "source": [
    "#Ignorar\n",
    "'''#Estes metodos servem para matrizes não binárias\n",
    "#A fazer: um metodo que dado um elemento da matriz, transforma o \"resto\" da matriz toda em uma matriz binaria para melhor fazer a analise\n",
    "def accuracy(matrix):\n",
    "    trace = matrix.trace()\n",
    "    total_sum = matrix.sum()\n",
    "    accuracy = trace/total_sum\n",
    "    return accuracy\n",
    "\n",
    "def recall(matrix, element_index):\n",
    "    return matrix[element_index][element_index]/matrix[element_index].sum()'''"
   ]
  },
  {
   "cell_type": "code",
   "execution_count": 177,
   "metadata": {},
   "outputs": [],
   "source": [
    "#stratifiedKFold = KFold que conserva a % de cada classe nos folds\n",
    "from sklearn.model_selection import StratifiedKFold\n",
    "folds = StratifiedKFold(n_splits=5, shuffle=True)\n",
    "\n",
    "from sklearn import metrics\n",
    "\n",
    "#dicionário para armazenar os folds e as metricas de cada iteração\n",
    "metrics_dict = {'Train Index' : [],\n",
    "                'Test Index' : [],\n",
    "                'Confusion Matrix' : [],\n",
    "                'Accuracy' : [],\n",
    "                'Error' : [],\n",
    "                'Recall' : [],\n",
    "                'Precision' : [],\n",
    "                'MCC' : [],\n",
    "                'F1' : [],\n",
    "                'Kappa' : [],\n",
    "                'ROC AUC' : []}\n",
    "\n",
    "#Cria o modelo\n",
    "#logistic_model = LogisticRegression(solver='liblinear', multi_class='ovr')\n",
    "model = RandomForestClassifier()\n",
    "\n",
    "\n",
    "for train_index, test_index in folds.split(dt.data,dt.target): #divide e faz a iteração entre as folds\n",
    "    X_train, X_test, y_train, y_test = dt.data[train_index], dt.data[test_index], \\\n",
    "                                       dt.target[train_index], dt.target[test_index] #divide instancias e labels em train set e test set\n",
    "    \n",
    "    metrics_dict['Train Index'].append(train_index)\n",
    "    metrics_dict['Test Index'].append(test_index)\n",
    "    \n",
    "    \n",
    "    #Treina o modelo\n",
    "    model.fit(X_train, y_train)\n",
    "\n",
    "    #faz predição no test set\n",
    "    y_pred = model.predict(X_test)\n",
    "    y_pred_prob = model.predict_proba(X_test)\n",
    "\n",
    "    cm = confusion_matrix(y_test, y_pred)\n",
    "    metrics_dict['Confusion Matrix'].append(cm)\n",
    "\n",
    "    acc = metrics.accuracy_score(y_test, y_pred)\n",
    "    metrics_dict['Accuracy'].append(acc)\n",
    "    metrics_dict['Error'].append(1-acc)\n",
    "    metrics_dict['Recall'].append(metrics.recall_score(y_test, y_pred, average='weighted')) #sensibilidade\n",
    "    metrics_dict['Precision'].append(metrics.precision_score(y_test, y_pred, average='weighted')) \n",
    "    metrics_dict['MCC'].append(metrics.matthews_corrcoef(y_test, y_pred))\n",
    "    metrics_dict['F1'].append(metrics.f1_score(y_test, y_pred, average='weighted'))\n",
    "    metrics_dict['Kappa'].append(metrics.cohen_kappa_score(y_test, y_pred))\n",
    "    metrics_dict['ROC AUC'].append(metrics.roc_auc_score(y_test, y_pred_prob, multi_class='ovr', average='weighted'))"
   ]
  },
  {
   "cell_type": "code",
   "execution_count": 180,
   "metadata": {},
   "outputs": [
    {
     "output_type": "execute_result",
     "data": {
      "text/plain": [
       "StratifiedKFold(n_splits=5, random_state=None, shuffle=True)"
      ]
     },
     "metadata": {},
     "execution_count": 180
    }
   ],
   "source": [
    "folds"
   ]
  },
  {
   "cell_type": "code",
   "execution_count": 173,
   "metadata": {},
   "outputs": [
    {
     "output_type": "execute_result",
     "data": {
      "text/plain": [
       "                                         Train Index  \\\n",
       "0  [1, 3, 5, 6, 7, 8, 10, 11, 12, 13, 14, 15, 16,...   \n",
       "1  [0, 1, 2, 3, 4, 5, 6, 7, 9, 11, 12, 14, 15, 18...   \n",
       "2  [0, 1, 2, 3, 4, 5, 6, 7, 8, 9, 10, 13, 14, 15,...   \n",
       "3  [0, 2, 4, 5, 6, 8, 9, 10, 11, 12, 13, 14, 15, ...   \n",
       "4  [0, 1, 2, 3, 4, 7, 8, 9, 10, 11, 12, 13, 16, 1...   \n",
       "\n",
       "                                          Test Index  \\\n",
       "0  [0, 2, 4, 9, 21, 22, 23, 24, 25, 35, 44, 54, 5...   \n",
       "1  [8, 10, 13, 16, 17, 19, 40, 42, 43, 45, 46, 52...   \n",
       "2  [11, 12, 31, 34, 37, 41, 47, 53, 61, 63, 65, 7...   \n",
       "3  [1, 3, 7, 18, 20, 28, 29, 30, 32, 33, 38, 48, ...   \n",
       "4  [5, 6, 14, 15, 26, 27, 36, 39, 49, 51, 55, 64,...   \n",
       "\n",
       "                                    Confusion Matrix  Accuracy     Error  \\\n",
       "0  [[36, 0, 0, 0, 0, 0, 0, 0, 0, 0], [0, 36, 0, 0...  0.986111  0.013889   \n",
       "1  [[36, 0, 0, 0, 0, 0, 0, 0, 0, 0], [0, 36, 0, 0...  0.961111  0.038889   \n",
       "2  [[35, 0, 0, 0, 0, 0, 1, 0, 0, 0], [0, 36, 0, 0...  0.980501  0.019499   \n",
       "3  [[34, 0, 0, 0, 1, 0, 0, 0, 0, 0], [0, 37, 0, 0...  0.969359  0.030641   \n",
       "4  [[35, 0, 0, 0, 0, 0, 0, 0, 0, 0], [0, 37, 0, 0...  0.972145  0.027855   \n",
       "\n",
       "     Recall  Precision       MCC        F1     Kappa   ROC AUC  \n",
       "0  0.986111   0.986629  0.984643  0.986018  0.984567  0.999653  \n",
       "1  0.961111   0.961803  0.956943  0.960717  0.956788  0.999319  \n",
       "2  0.980501   0.980788  0.978376  0.980458  0.978333  0.999573  \n",
       "3  0.969359   0.971077  0.966178  0.969267  0.965953  0.999507  \n",
       "4  0.972145   0.972515  0.969090  0.972140  0.969049  0.998909  "
      ],
      "text/html": "<div>\n<style scoped>\n    .dataframe tbody tr th:only-of-type {\n        vertical-align: middle;\n    }\n\n    .dataframe tbody tr th {\n        vertical-align: top;\n    }\n\n    .dataframe thead th {\n        text-align: right;\n    }\n</style>\n<table border=\"1\" class=\"dataframe\">\n  <thead>\n    <tr style=\"text-align: right;\">\n      <th></th>\n      <th>Train Index</th>\n      <th>Test Index</th>\n      <th>Confusion Matrix</th>\n      <th>Accuracy</th>\n      <th>Error</th>\n      <th>Recall</th>\n      <th>Precision</th>\n      <th>MCC</th>\n      <th>F1</th>\n      <th>Kappa</th>\n      <th>ROC AUC</th>\n    </tr>\n  </thead>\n  <tbody>\n    <tr>\n      <th>0</th>\n      <td>[1, 3, 5, 6, 7, 8, 10, 11, 12, 13, 14, 15, 16,...</td>\n      <td>[0, 2, 4, 9, 21, 22, 23, 24, 25, 35, 44, 54, 5...</td>\n      <td>[[36, 0, 0, 0, 0, 0, 0, 0, 0, 0], [0, 36, 0, 0...</td>\n      <td>0.986111</td>\n      <td>0.013889</td>\n      <td>0.986111</td>\n      <td>0.986629</td>\n      <td>0.984643</td>\n      <td>0.986018</td>\n      <td>0.984567</td>\n      <td>0.999653</td>\n    </tr>\n    <tr>\n      <th>1</th>\n      <td>[0, 1, 2, 3, 4, 5, 6, 7, 9, 11, 12, 14, 15, 18...</td>\n      <td>[8, 10, 13, 16, 17, 19, 40, 42, 43, 45, 46, 52...</td>\n      <td>[[36, 0, 0, 0, 0, 0, 0, 0, 0, 0], [0, 36, 0, 0...</td>\n      <td>0.961111</td>\n      <td>0.038889</td>\n      <td>0.961111</td>\n      <td>0.961803</td>\n      <td>0.956943</td>\n      <td>0.960717</td>\n      <td>0.956788</td>\n      <td>0.999319</td>\n    </tr>\n    <tr>\n      <th>2</th>\n      <td>[0, 1, 2, 3, 4, 5, 6, 7, 8, 9, 10, 13, 14, 15,...</td>\n      <td>[11, 12, 31, 34, 37, 41, 47, 53, 61, 63, 65, 7...</td>\n      <td>[[35, 0, 0, 0, 0, 0, 1, 0, 0, 0], [0, 36, 0, 0...</td>\n      <td>0.980501</td>\n      <td>0.019499</td>\n      <td>0.980501</td>\n      <td>0.980788</td>\n      <td>0.978376</td>\n      <td>0.980458</td>\n      <td>0.978333</td>\n      <td>0.999573</td>\n    </tr>\n    <tr>\n      <th>3</th>\n      <td>[0, 2, 4, 5, 6, 8, 9, 10, 11, 12, 13, 14, 15, ...</td>\n      <td>[1, 3, 7, 18, 20, 28, 29, 30, 32, 33, 38, 48, ...</td>\n      <td>[[34, 0, 0, 0, 1, 0, 0, 0, 0, 0], [0, 37, 0, 0...</td>\n      <td>0.969359</td>\n      <td>0.030641</td>\n      <td>0.969359</td>\n      <td>0.971077</td>\n      <td>0.966178</td>\n      <td>0.969267</td>\n      <td>0.965953</td>\n      <td>0.999507</td>\n    </tr>\n    <tr>\n      <th>4</th>\n      <td>[0, 1, 2, 3, 4, 7, 8, 9, 10, 11, 12, 13, 16, 1...</td>\n      <td>[5, 6, 14, 15, 26, 27, 36, 39, 49, 51, 55, 64,...</td>\n      <td>[[35, 0, 0, 0, 0, 0, 0, 0, 0, 0], [0, 37, 0, 0...</td>\n      <td>0.972145</td>\n      <td>0.027855</td>\n      <td>0.972145</td>\n      <td>0.972515</td>\n      <td>0.969090</td>\n      <td>0.972140</td>\n      <td>0.969049</td>\n      <td>0.998909</td>\n    </tr>\n  </tbody>\n</table>\n</div>"
     },
     "metadata": {},
     "execution_count": 173
    }
   ],
   "source": [
    "#Transformando o dicionário em um pandas dataframe e depois exportando como .csv\n",
    "dataframe = pd.DataFrame.from_dict(metrics_dict)\n",
    "dataframe.to_csv('metrics.csv', float_format='%.10f')\n",
    "dataframe"
   ]
  },
  {
   "cell_type": "code",
   "execution_count": 174,
   "metadata": {},
   "outputs": [
    {
     "output_type": "display_data",
     "data": {
      "text/plain": "<Figure size 720x720 with 2 Axes>",
      "image/svg+xml": "<?xml version=\"1.0\" encoding=\"utf-8\" standalone=\"no\"?>\n<!DOCTYPE svg PUBLIC \"-//W3C//DTD SVG 1.1//EN\"\n  \"http://www.w3.org/Graphics/SVG/1.1/DTD/svg11.dtd\">\n<!-- Created with matplotlib (https://matplotlib.org/) -->\n<svg height=\"563.878906pt\" version=\"1.1\" viewBox=\"0 0 548.9675 563.878906\" width=\"548.9675pt\" xmlns=\"http://www.w3.org/2000/svg\" xmlns:xlink=\"http://www.w3.org/1999/xlink\">\n <defs>\n  <style type=\"text/css\">\n*{stroke-linecap:butt;stroke-linejoin:round;}\n  </style>\n </defs>\n <g id=\"figure_1\">\n  <g id=\"patch_1\">\n   <path d=\"M 0 563.878906 \nL 548.9675 563.878906 \nL 548.9675 0 \nL 0 0 \nz\n\" style=\"fill:none;\"/>\n  </g>\n  <g id=\"axes_1\">\n   <g id=\"patch_2\">\n    <path d=\"M 20.5625 502.2 \nL 466.9625 502.2 \nL 466.9625 55.8 \nL 20.5625 55.8 \nz\n\" style=\"fill:#ffffff;\"/>\n   </g>\n   <g clip-path=\"url(#p4bf7707f6d)\">\n    <image height=\"447\" id=\"imageb314984a16\" transform=\"scale(1 -1)translate(0 -447)\" width=\"447\" x=\"20.5625\" xlink:href=\"data:image/png;base64,\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\" y=\"-55.2\"/>\n   </g>\n   <g id=\"matplotlib.axis_1\">\n    <g id=\"xtick_1\">\n     <g id=\"line2d_1\">\n      <defs>\n       <path d=\"M 0 0 \nL 0 3.5 \n\" id=\"m50426e8181\" style=\"stroke:#000000;stroke-width:0.8;\"/>\n      </defs>\n      <g>\n       <use style=\"stroke:#000000;stroke-width:0.8;\" x=\"42.8825\" xlink:href=\"#m50426e8181\" y=\"502.2\"/>\n      </g>\n     </g>\n     <g id=\"line2d_2\">\n      <defs>\n       <path d=\"M 0 0 \nL 0 -3.5 \n\" id=\"md8fd532488\" style=\"stroke:#000000;stroke-width:0.8;\"/>\n      </defs>\n      <g>\n       <use style=\"stroke:#000000;stroke-width:0.8;\" x=\"42.8825\" xlink:href=\"#md8fd532488\" y=\"55.8\"/>\n      </g>\n     </g>\n     <g id=\"text_1\">\n      <!-- 0 -->\n      <defs>\n       <path d=\"M 31.78125 66.40625 \nQ 24.171875 66.40625 20.328125 58.90625 \nQ 16.5 51.421875 16.5 36.375 \nQ 16.5 21.390625 20.328125 13.890625 \nQ 24.171875 6.390625 31.78125 6.390625 \nQ 39.453125 6.390625 43.28125 13.890625 \nQ 47.125 21.390625 47.125 36.375 \nQ 47.125 51.421875 43.28125 58.90625 \nQ 39.453125 66.40625 31.78125 66.40625 \nz\nM 31.78125 74.21875 \nQ 44.046875 74.21875 50.515625 64.515625 \nQ 56.984375 54.828125 56.984375 36.375 \nQ 56.984375 17.96875 50.515625 8.265625 \nQ 44.046875 -1.421875 31.78125 -1.421875 \nQ 19.53125 -1.421875 13.0625 8.265625 \nQ 6.59375 17.96875 6.59375 36.375 \nQ 6.59375 54.828125 13.0625 64.515625 \nQ 19.53125 74.21875 31.78125 74.21875 \nz\n\" id=\"DejaVuSans-48\"/>\n      </defs>\n      <g transform=\"translate(39.70125 46.720313)scale(0.1 -0.1)\">\n       <use xlink:href=\"#DejaVuSans-48\"/>\n      </g>\n     </g>\n    </g>\n    <g id=\"xtick_2\">\n     <g id=\"line2d_3\">\n      <g>\n       <use style=\"stroke:#000000;stroke-width:0.8;\" x=\"132.1625\" xlink:href=\"#m50426e8181\" y=\"502.2\"/>\n      </g>\n     </g>\n     <g id=\"line2d_4\">\n      <g>\n       <use style=\"stroke:#000000;stroke-width:0.8;\" x=\"132.1625\" xlink:href=\"#md8fd532488\" y=\"55.8\"/>\n      </g>\n     </g>\n     <g id=\"text_2\">\n      <!-- 2 -->\n      <defs>\n       <path d=\"M 19.1875 8.296875 \nL 53.609375 8.296875 \nL 53.609375 0 \nL 7.328125 0 \nL 7.328125 8.296875 \nQ 12.9375 14.109375 22.625 23.890625 \nQ 32.328125 33.6875 34.8125 36.53125 \nQ 39.546875 41.84375 41.421875 45.53125 \nQ 43.3125 49.21875 43.3125 52.78125 \nQ 43.3125 58.59375 39.234375 62.25 \nQ 35.15625 65.921875 28.609375 65.921875 \nQ 23.96875 65.921875 18.8125 64.3125 \nQ 13.671875 62.703125 7.8125 59.421875 \nL 7.8125 69.390625 \nQ 13.765625 71.78125 18.9375 73 \nQ 24.125 74.21875 28.421875 74.21875 \nQ 39.75 74.21875 46.484375 68.546875 \nQ 53.21875 62.890625 53.21875 53.421875 \nQ 53.21875 48.921875 51.53125 44.890625 \nQ 49.859375 40.875 45.40625 35.40625 \nQ 44.1875 33.984375 37.640625 27.21875 \nQ 31.109375 20.453125 19.1875 8.296875 \nz\n\" id=\"DejaVuSans-50\"/>\n      </defs>\n      <g transform=\"translate(128.98125 46.720313)scale(0.1 -0.1)\">\n       <use xlink:href=\"#DejaVuSans-50\"/>\n      </g>\n     </g>\n    </g>\n    <g id=\"xtick_3\">\n     <g id=\"line2d_5\">\n      <g>\n       <use style=\"stroke:#000000;stroke-width:0.8;\" x=\"221.4425\" xlink:href=\"#m50426e8181\" y=\"502.2\"/>\n      </g>\n     </g>\n     <g id=\"line2d_6\">\n      <g>\n       <use style=\"stroke:#000000;stroke-width:0.8;\" x=\"221.4425\" xlink:href=\"#md8fd532488\" y=\"55.8\"/>\n      </g>\n     </g>\n     <g id=\"text_3\">\n      <!-- 4 -->\n      <defs>\n       <path d=\"M 37.796875 64.3125 \nL 12.890625 25.390625 \nL 37.796875 25.390625 \nz\nM 35.203125 72.90625 \nL 47.609375 72.90625 \nL 47.609375 25.390625 \nL 58.015625 25.390625 \nL 58.015625 17.1875 \nL 47.609375 17.1875 \nL 47.609375 0 \nL 37.796875 0 \nL 37.796875 17.1875 \nL 4.890625 17.1875 \nL 4.890625 26.703125 \nz\n\" id=\"DejaVuSans-52\"/>\n      </defs>\n      <g transform=\"translate(218.26125 46.720313)scale(0.1 -0.1)\">\n       <use xlink:href=\"#DejaVuSans-52\"/>\n      </g>\n     </g>\n    </g>\n    <g id=\"xtick_4\">\n     <g id=\"line2d_7\">\n      <g>\n       <use style=\"stroke:#000000;stroke-width:0.8;\" x=\"310.7225\" xlink:href=\"#m50426e8181\" y=\"502.2\"/>\n      </g>\n     </g>\n     <g id=\"line2d_8\">\n      <g>\n       <use style=\"stroke:#000000;stroke-width:0.8;\" x=\"310.7225\" xlink:href=\"#md8fd532488\" y=\"55.8\"/>\n      </g>\n     </g>\n     <g id=\"text_4\">\n      <!-- 6 -->\n      <defs>\n       <path d=\"M 33.015625 40.375 \nQ 26.375 40.375 22.484375 35.828125 \nQ 18.609375 31.296875 18.609375 23.390625 \nQ 18.609375 15.53125 22.484375 10.953125 \nQ 26.375 6.390625 33.015625 6.390625 \nQ 39.65625 6.390625 43.53125 10.953125 \nQ 47.40625 15.53125 47.40625 23.390625 \nQ 47.40625 31.296875 43.53125 35.828125 \nQ 39.65625 40.375 33.015625 40.375 \nz\nM 52.59375 71.296875 \nL 52.59375 62.3125 \nQ 48.875 64.0625 45.09375 64.984375 \nQ 41.3125 65.921875 37.59375 65.921875 \nQ 27.828125 65.921875 22.671875 59.328125 \nQ 17.53125 52.734375 16.796875 39.40625 \nQ 19.671875 43.65625 24.015625 45.921875 \nQ 28.375 48.1875 33.59375 48.1875 \nQ 44.578125 48.1875 50.953125 41.515625 \nQ 57.328125 34.859375 57.328125 23.390625 \nQ 57.328125 12.15625 50.6875 5.359375 \nQ 44.046875 -1.421875 33.015625 -1.421875 \nQ 20.359375 -1.421875 13.671875 8.265625 \nQ 6.984375 17.96875 6.984375 36.375 \nQ 6.984375 53.65625 15.1875 63.9375 \nQ 23.390625 74.21875 37.203125 74.21875 \nQ 40.921875 74.21875 44.703125 73.484375 \nQ 48.484375 72.75 52.59375 71.296875 \nz\n\" id=\"DejaVuSans-54\"/>\n      </defs>\n      <g transform=\"translate(307.54125 46.720313)scale(0.1 -0.1)\">\n       <use xlink:href=\"#DejaVuSans-54\"/>\n      </g>\n     </g>\n    </g>\n    <g id=\"xtick_5\">\n     <g id=\"line2d_9\">\n      <g>\n       <use style=\"stroke:#000000;stroke-width:0.8;\" x=\"400.0025\" xlink:href=\"#m50426e8181\" y=\"502.2\"/>\n      </g>\n     </g>\n     <g id=\"line2d_10\">\n      <g>\n       <use style=\"stroke:#000000;stroke-width:0.8;\" x=\"400.0025\" xlink:href=\"#md8fd532488\" y=\"55.8\"/>\n      </g>\n     </g>\n     <g id=\"text_5\">\n      <!-- 8 -->\n      <defs>\n       <path d=\"M 31.78125 34.625 \nQ 24.75 34.625 20.71875 30.859375 \nQ 16.703125 27.09375 16.703125 20.515625 \nQ 16.703125 13.921875 20.71875 10.15625 \nQ 24.75 6.390625 31.78125 6.390625 \nQ 38.8125 6.390625 42.859375 10.171875 \nQ 46.921875 13.96875 46.921875 20.515625 \nQ 46.921875 27.09375 42.890625 30.859375 \nQ 38.875 34.625 31.78125 34.625 \nz\nM 21.921875 38.8125 \nQ 15.578125 40.375 12.03125 44.71875 \nQ 8.5 49.078125 8.5 55.328125 \nQ 8.5 64.0625 14.71875 69.140625 \nQ 20.953125 74.21875 31.78125 74.21875 \nQ 42.671875 74.21875 48.875 69.140625 \nQ 55.078125 64.0625 55.078125 55.328125 \nQ 55.078125 49.078125 51.53125 44.71875 \nQ 48 40.375 41.703125 38.8125 \nQ 48.828125 37.15625 52.796875 32.3125 \nQ 56.78125 27.484375 56.78125 20.515625 \nQ 56.78125 9.90625 50.3125 4.234375 \nQ 43.84375 -1.421875 31.78125 -1.421875 \nQ 19.734375 -1.421875 13.25 4.234375 \nQ 6.78125 9.90625 6.78125 20.515625 \nQ 6.78125 27.484375 10.78125 32.3125 \nQ 14.796875 37.15625 21.921875 38.8125 \nz\nM 18.3125 54.390625 \nQ 18.3125 48.734375 21.84375 45.5625 \nQ 25.390625 42.390625 31.78125 42.390625 \nQ 38.140625 42.390625 41.71875 45.5625 \nQ 45.3125 48.734375 45.3125 54.390625 \nQ 45.3125 60.0625 41.71875 63.234375 \nQ 38.140625 66.40625 31.78125 66.40625 \nQ 25.390625 66.40625 21.84375 63.234375 \nQ 18.3125 60.0625 18.3125 54.390625 \nz\n\" id=\"DejaVuSans-56\"/>\n      </defs>\n      <g transform=\"translate(396.82125 46.720313)scale(0.1 -0.1)\">\n       <use xlink:href=\"#DejaVuSans-56\"/>\n      </g>\n     </g>\n    </g>\n   </g>\n   <g id=\"matplotlib.axis_2\">\n    <g id=\"ytick_1\">\n     <g id=\"line2d_11\">\n      <defs>\n       <path d=\"M 0 0 \nL -3.5 0 \n\" id=\"m3600070ef0\" style=\"stroke:#000000;stroke-width:0.8;\"/>\n      </defs>\n      <g>\n       <use style=\"stroke:#000000;stroke-width:0.8;\" x=\"20.5625\" xlink:href=\"#m3600070ef0\" y=\"78.12\"/>\n      </g>\n     </g>\n     <g id=\"text_6\">\n      <!-- 0 -->\n      <g transform=\"translate(7.2 81.919219)scale(0.1 -0.1)\">\n       <use xlink:href=\"#DejaVuSans-48\"/>\n      </g>\n     </g>\n    </g>\n    <g id=\"ytick_2\">\n     <g id=\"line2d_12\">\n      <g>\n       <use style=\"stroke:#000000;stroke-width:0.8;\" x=\"20.5625\" xlink:href=\"#m3600070ef0\" y=\"167.4\"/>\n      </g>\n     </g>\n     <g id=\"text_7\">\n      <!-- 2 -->\n      <g transform=\"translate(7.2 171.199219)scale(0.1 -0.1)\">\n       <use xlink:href=\"#DejaVuSans-50\"/>\n      </g>\n     </g>\n    </g>\n    <g id=\"ytick_3\">\n     <g id=\"line2d_13\">\n      <g>\n       <use style=\"stroke:#000000;stroke-width:0.8;\" x=\"20.5625\" xlink:href=\"#m3600070ef0\" y=\"256.68\"/>\n      </g>\n     </g>\n     <g id=\"text_8\">\n      <!-- 4 -->\n      <g transform=\"translate(7.2 260.479219)scale(0.1 -0.1)\">\n       <use xlink:href=\"#DejaVuSans-52\"/>\n      </g>\n     </g>\n    </g>\n    <g id=\"ytick_4\">\n     <g id=\"line2d_14\">\n      <g>\n       <use style=\"stroke:#000000;stroke-width:0.8;\" x=\"20.5625\" xlink:href=\"#m3600070ef0\" y=\"345.96\"/>\n      </g>\n     </g>\n     <g id=\"text_9\">\n      <!-- 6 -->\n      <g transform=\"translate(7.2 349.759219)scale(0.1 -0.1)\">\n       <use xlink:href=\"#DejaVuSans-54\"/>\n      </g>\n     </g>\n    </g>\n    <g id=\"ytick_5\">\n     <g id=\"line2d_15\">\n      <g>\n       <use style=\"stroke:#000000;stroke-width:0.8;\" x=\"20.5625\" xlink:href=\"#m3600070ef0\" y=\"435.24\"/>\n      </g>\n     </g>\n     <g id=\"text_10\">\n      <!-- 8 -->\n      <g transform=\"translate(7.2 439.039219)scale(0.1 -0.1)\">\n       <use xlink:href=\"#DejaVuSans-56\"/>\n      </g>\n     </g>\n    </g>\n   </g>\n   <g id=\"patch_3\">\n    <path d=\"M 20.5625 502.2 \nL 20.5625 55.8 \n\" style=\"fill:none;stroke:#000000;stroke-linecap:square;stroke-linejoin:miter;stroke-width:0.8;\"/>\n   </g>\n   <g id=\"patch_4\">\n    <path d=\"M 466.9625 502.2 \nL 466.9625 55.8 \n\" style=\"fill:none;stroke:#000000;stroke-linecap:square;stroke-linejoin:miter;stroke-width:0.8;\"/>\n   </g>\n   <g id=\"patch_5\">\n    <path d=\"M 20.5625 502.2 \nL 466.9625 502.2 \n\" style=\"fill:none;stroke:#000000;stroke-linecap:square;stroke-linejoin:miter;stroke-width:0.8;\"/>\n   </g>\n   <g id=\"patch_6\">\n    <path d=\"M 20.5625 55.8 \nL 466.9625 55.8 \n\" style=\"fill:none;stroke:#000000;stroke-linecap:square;stroke-linejoin:miter;stroke-width:0.8;\"/>\n   </g>\n  </g>\n  <g id=\"axes_2\">\n   <g id=\"patch_7\">\n    <path clip-path=\"url(#pc3999b1f92)\" d=\"M 494.8625 550.8 \nL 494.8625 548.676562 \nL 494.8625 9.323438 \nL 494.8625 7.2 \nL 522.0425 7.2 \nL 522.0425 9.323438 \nL 522.0425 548.676562 \nL 522.0425 550.8 \nz\n\" style=\"fill:#ffffff;stroke:#ffffff;stroke-linejoin:miter;stroke-width:0.01;\"/>\n   </g>\n   <image height=\"544\" id=\"imagebcc932a7a3\" transform=\"scale(1 -1)translate(0 -544)\" width=\"27\" x=\"495\" xlink:href=\"data:image/png;base64,\niVBORw0KGgoAAAANSUhEUgAAABsAAAIgCAYAAAB09hISAAAABHNCSVQICAgIfAhkiAAAAptJREFUeJztnNGN5DAUw5IZl3YlXP+l7F4H9xNCQAiyAUGR3rPhwe795/77e434rISu67rOde/0ts7uzz0TKzOEMkMYOxNnJnW2Hmpt9a0FOVeZAbSIEc7d4QnQnL1PzPsZO2IQcoZgdtYRA9BrwfvEqj5CzhDMzpozgK2zX62zpZz58PQWJGcArSsE77oSt9HrTDtnDTVC1UdYZ7YTq40I57cNArDeIDsx8+GpLYh3EYsPT+0iFmcmnrOdWFsfwZtZQ40g/v1MW31xG82ZNWfPac7eJ6YuSEP9nIYaQf1suxNrzhC8u7GCIDTUCGWGUGYIZYbgzaxfmRC8BWmoEXKGUBsRyux9YhUEocwQxM5qI8E4s6FYmb1PzPsZW1cIZYYgzszrrDYSdHgiVH2EMkMoMwSxs9pI4D08vWJVHyFnCLURocwQvJmtP+PuZb/qI3irL3ZWGwlyhuDd+g11Yv9FPNTaNnrXlbiNOSNozt4nJi5IRwxBbUQ4w791q40M4jZqnY0/41X1n7NexGX2nDJDUGe2E+vC8z4x8VB7q+/NzLyIrZkNIyszBq+zjhiE87EWxFt9tbOdWHOGIG7jx/re2FAjNNQIZYZQZggdMQjeNlZ9hJwh5AxBvIjFmeUMoMMToXWFYM7s/pmJlRlCc4bQnL1P7Hy9BREPtbT64nX1rY0AtRHBu/XXR0zVf856EZfZc9brSpuZ9logzszqrBsxgrcgZYbQhQfBfOHRZia+Flh3YwVBEL8WaJ+TxIu4Cw9Bc4bg3Y0dngjiodbeG9VttGamXcS1EUF8ePacRFD1EdRtzNlz1m3ciZXZ+8TOUm19b9yJrau/s1YbEc53+H9W1plZnZnnTOqsoUY4n6Fe1Uc439ubmdTZVOwfn3qPQshziy8AAAAASUVORK5CYII=\" y=\"-6\"/>\n   <g id=\"matplotlib.axis_3\"/>\n   <g id=\"matplotlib.axis_4\">\n    <g id=\"ytick_6\">\n     <g id=\"line2d_16\">\n      <defs>\n       <path d=\"M 0 0 \nL 3.5 0 \n\" id=\"m8bb6550c3f\" style=\"stroke:#000000;stroke-width:0.8;\"/>\n      </defs>\n      <g>\n       <use style=\"stroke:#000000;stroke-width:0.8;\" x=\"522.0425\" xlink:href=\"#m8bb6550c3f\" y=\"550.8\"/>\n      </g>\n     </g>\n     <g id=\"text_11\">\n      <!-- 0 -->\n      <g transform=\"translate(529.0425 554.599219)scale(0.1 -0.1)\">\n       <use xlink:href=\"#DejaVuSans-48\"/>\n      </g>\n     </g>\n    </g>\n    <g id=\"ytick_7\">\n     <g id=\"line2d_17\">\n      <g>\n       <use style=\"stroke:#000000;stroke-width:0.8;\" x=\"522.0425\" xlink:href=\"#m8bb6550c3f\" y=\"475.3\"/>\n      </g>\n     </g>\n     <g id=\"text_12\">\n      <!-- 5 -->\n      <defs>\n       <path d=\"M 10.796875 72.90625 \nL 49.515625 72.90625 \nL 49.515625 64.59375 \nL 19.828125 64.59375 \nL 19.828125 46.734375 \nQ 21.96875 47.46875 24.109375 47.828125 \nQ 26.265625 48.1875 28.421875 48.1875 \nQ 40.625 48.1875 47.75 41.5 \nQ 54.890625 34.8125 54.890625 23.390625 \nQ 54.890625 11.625 47.5625 5.09375 \nQ 40.234375 -1.421875 26.90625 -1.421875 \nQ 22.3125 -1.421875 17.546875 -0.640625 \nQ 12.796875 0.140625 7.71875 1.703125 \nL 7.71875 11.625 \nQ 12.109375 9.234375 16.796875 8.0625 \nQ 21.484375 6.890625 26.703125 6.890625 \nQ 35.15625 6.890625 40.078125 11.328125 \nQ 45.015625 15.765625 45.015625 23.390625 \nQ 45.015625 31 40.078125 35.4375 \nQ 35.15625 39.890625 26.703125 39.890625 \nQ 22.75 39.890625 18.8125 39.015625 \nQ 14.890625 38.140625 10.796875 36.28125 \nz\n\" id=\"DejaVuSans-53\"/>\n      </defs>\n      <g transform=\"translate(529.0425 479.099219)scale(0.1 -0.1)\">\n       <use xlink:href=\"#DejaVuSans-53\"/>\n      </g>\n     </g>\n    </g>\n    <g id=\"ytick_8\">\n     <g id=\"line2d_18\">\n      <g>\n       <use style=\"stroke:#000000;stroke-width:0.8;\" x=\"522.0425\" xlink:href=\"#m8bb6550c3f\" y=\"399.8\"/>\n      </g>\n     </g>\n     <g id=\"text_13\">\n      <!-- 10 -->\n      <defs>\n       <path d=\"M 12.40625 8.296875 \nL 28.515625 8.296875 \nL 28.515625 63.921875 \nL 10.984375 60.40625 \nL 10.984375 69.390625 \nL 28.421875 72.90625 \nL 38.28125 72.90625 \nL 38.28125 8.296875 \nL 54.390625 8.296875 \nL 54.390625 0 \nL 12.40625 0 \nz\n\" id=\"DejaVuSans-49\"/>\n      </defs>\n      <g transform=\"translate(529.0425 403.599219)scale(0.1 -0.1)\">\n       <use xlink:href=\"#DejaVuSans-49\"/>\n       <use x=\"63.623047\" xlink:href=\"#DejaVuSans-48\"/>\n      </g>\n     </g>\n    </g>\n    <g id=\"ytick_9\">\n     <g id=\"line2d_19\">\n      <g>\n       <use style=\"stroke:#000000;stroke-width:0.8;\" x=\"522.0425\" xlink:href=\"#m8bb6550c3f\" y=\"324.3\"/>\n      </g>\n     </g>\n     <g id=\"text_14\">\n      <!-- 15 -->\n      <g transform=\"translate(529.0425 328.099219)scale(0.1 -0.1)\">\n       <use xlink:href=\"#DejaVuSans-49\"/>\n       <use x=\"63.623047\" xlink:href=\"#DejaVuSans-53\"/>\n      </g>\n     </g>\n    </g>\n    <g id=\"ytick_10\">\n     <g id=\"line2d_20\">\n      <g>\n       <use style=\"stroke:#000000;stroke-width:0.8;\" x=\"522.0425\" xlink:href=\"#m8bb6550c3f\" y=\"248.8\"/>\n      </g>\n     </g>\n     <g id=\"text_15\">\n      <!-- 20 -->\n      <g transform=\"translate(529.0425 252.599219)scale(0.1 -0.1)\">\n       <use xlink:href=\"#DejaVuSans-50\"/>\n       <use x=\"63.623047\" xlink:href=\"#DejaVuSans-48\"/>\n      </g>\n     </g>\n    </g>\n    <g id=\"ytick_11\">\n     <g id=\"line2d_21\">\n      <g>\n       <use style=\"stroke:#000000;stroke-width:0.8;\" x=\"522.0425\" xlink:href=\"#m8bb6550c3f\" y=\"173.3\"/>\n      </g>\n     </g>\n     <g id=\"text_16\">\n      <!-- 25 -->\n      <g transform=\"translate(529.0425 177.099219)scale(0.1 -0.1)\">\n       <use xlink:href=\"#DejaVuSans-50\"/>\n       <use x=\"63.623047\" xlink:href=\"#DejaVuSans-53\"/>\n      </g>\n     </g>\n    </g>\n    <g id=\"ytick_12\">\n     <g id=\"line2d_22\">\n      <g>\n       <use style=\"stroke:#000000;stroke-width:0.8;\" x=\"522.0425\" xlink:href=\"#m8bb6550c3f\" y=\"97.8\"/>\n      </g>\n     </g>\n     <g id=\"text_17\">\n      <!-- 30 -->\n      <defs>\n       <path d=\"M 40.578125 39.3125 \nQ 47.65625 37.796875 51.625 33 \nQ 55.609375 28.21875 55.609375 21.1875 \nQ 55.609375 10.40625 48.1875 4.484375 \nQ 40.765625 -1.421875 27.09375 -1.421875 \nQ 22.515625 -1.421875 17.65625 -0.515625 \nQ 12.796875 0.390625 7.625 2.203125 \nL 7.625 11.71875 \nQ 11.71875 9.328125 16.59375 8.109375 \nQ 21.484375 6.890625 26.8125 6.890625 \nQ 36.078125 6.890625 40.9375 10.546875 \nQ 45.796875 14.203125 45.796875 21.1875 \nQ 45.796875 27.640625 41.28125 31.265625 \nQ 36.765625 34.90625 28.71875 34.90625 \nL 20.21875 34.90625 \nL 20.21875 43.015625 \nL 29.109375 43.015625 \nQ 36.375 43.015625 40.234375 45.921875 \nQ 44.09375 48.828125 44.09375 54.296875 \nQ 44.09375 59.90625 40.109375 62.90625 \nQ 36.140625 65.921875 28.71875 65.921875 \nQ 24.65625 65.921875 20.015625 65.03125 \nQ 15.375 64.15625 9.8125 62.3125 \nL 9.8125 71.09375 \nQ 15.4375 72.65625 20.34375 73.4375 \nQ 25.25 74.21875 29.59375 74.21875 \nQ 40.828125 74.21875 47.359375 69.109375 \nQ 53.90625 64.015625 53.90625 55.328125 \nQ 53.90625 49.265625 50.4375 45.09375 \nQ 46.96875 40.921875 40.578125 39.3125 \nz\n\" id=\"DejaVuSans-51\"/>\n      </defs>\n      <g transform=\"translate(529.0425 101.599219)scale(0.1 -0.1)\">\n       <use xlink:href=\"#DejaVuSans-51\"/>\n       <use x=\"63.623047\" xlink:href=\"#DejaVuSans-48\"/>\n      </g>\n     </g>\n    </g>\n    <g id=\"ytick_13\">\n     <g id=\"line2d_23\">\n      <g>\n       <use style=\"stroke:#000000;stroke-width:0.8;\" x=\"522.0425\" xlink:href=\"#m8bb6550c3f\" y=\"22.3\"/>\n      </g>\n     </g>\n     <g id=\"text_18\">\n      <!-- 35 -->\n      <g transform=\"translate(529.0425 26.099219)scale(0.1 -0.1)\">\n       <use xlink:href=\"#DejaVuSans-51\"/>\n       <use x=\"63.623047\" xlink:href=\"#DejaVuSans-53\"/>\n      </g>\n     </g>\n    </g>\n   </g>\n   <g id=\"patch_8\">\n    <path d=\"M 494.8625 550.8 \nL 494.8625 548.676562 \nL 494.8625 9.323438 \nL 494.8625 7.2 \nL 522.0425 7.2 \nL 522.0425 9.323438 \nL 522.0425 548.676562 \nL 522.0425 550.8 \nz\n\" style=\"fill:none;stroke:#000000;stroke-linejoin:miter;stroke-width:0.8;\"/>\n   </g>\n  </g>\n </g>\n <defs>\n  <clipPath id=\"p4bf7707f6d\">\n   <rect height=\"446.4\" width=\"446.4\" x=\"20.5625\" y=\"55.8\"/>\n  </clipPath>\n  <clipPath id=\"pc3999b1f92\">\n   <rect height=\"543.6\" width=\"27.18\" x=\"494.8625\" y=\"7.2\"/>\n  </clipPath>\n </defs>\n</svg>\n",
      "image/png": "[encoded data removed]"
     },
     "metadata": {
      "needs_background": "light"
     }
    }
   ],
   "source": [
    "def plot_confusion_matrix(matrix):\n",
    "    fig = plt.figure(figsize=(10,10))\n",
    "    ax = fig.add_subplot(111)\n",
    "    cax = ax.matshow(matrix)\n",
    "    fig.colorbar(cax)\n",
    "\n",
    "plot_confusion_matrix(dataframe['Confusion Matrix'][0])"
   ]
  },
  {
   "cell_type": "code",
   "execution_count": null,
   "metadata": {},
   "outputs": [],
   "source": []
  }
 ]
}
{
 "metadata": {
  "language_info": {
   "codemirror_mode": {
    "name": "ipython",
    "version": 3
   },
   "file_extension": ".py",
   "mimetype": "text/x-python",
   "name": "python",
   "nbconvert_exporter": "python",
   "pygments_lexer": "ipython3",
   "version": "3.7.6-final"
  },
  "orig_nbformat": 2,
  "kernelspec": {
   "name": "python376jvsc74a57bd0e195ad74c1f1f25b431fdad758182e5c1b96f087f382f48f0b05b5503f70a0ae",
   "display_name": "Python 3.7.6 64-bit ('base': conda)"
  }
 },
 "nbformat": 4,
 "nbformat_minor": 2,
 "cells": [
  {
   "cell_type": "code",
   "execution_count": 21,
   "metadata": {},
   "outputs": [],
   "source": [
    "#Importa modelos\n",
    "from sklearn.linear_model import LogisticRegression\n",
    "from sklearn.svm import SVC\n",
    "from sklearn.ensemble import RandomForestClassifier\n",
    "\n",
    "import numpy as np"
   ]
  },
  {
   "cell_type": "code",
   "execution_count": 22,
   "metadata": {},
   "outputs": [],
   "source": [
    "from sklearn.datasets import load_digits\n",
    "digits = load_digits()\n",
    "\n",
    "from sklearn.datasets import load_iris\n",
    "iris = load_iris()\n",
    "\n",
    "#escolhe dataset\n",
    "dt = iris"
   ]
  },
  {
   "cell_type": "code",
   "execution_count": 23,
   "metadata": {},
   "outputs": [],
   "source": [
    "#função para treinamento\n",
    "def get_score(model, X_train, X_test, y_train, y_test):\n",
    "    model.fit(X_train, y_train)\n",
    "    return model.score(X_test, y_test) #.score retorna a acuracia"
   ]
  },
  {
   "cell_type": "code",
   "execution_count": 24,
   "metadata": {},
   "outputs": [],
   "source": [
    "#stratifiedKFold = KFold que conserva a % de cada classe nos folds\n",
    "from sklearn.model_selection import StratifiedKFold\n",
    "folds = StratifiedKFold(n_splits=5)\n",
    "\n",
    "scores_logistic = []\n",
    "scores_svm = []\n",
    "scores_rf = []\n",
    "\n",
    "for train_index, test_index in folds.split(dt.data,dt.target):\n",
    "    X_train, X_test, y_train, y_test = dt.data[train_index], dt.data[test_index], \\\n",
    "                                       dt.target[train_index], dt.target[test_index]\n",
    "    \n",
    "    scores_logistic.append(get_score(LogisticRegression(solver='liblinear',multi_class='ovr'), X_train, X_test, y_train, y_test))  \n",
    "    \n",
    "    scores_svm.append(get_score(SVC(gamma='auto'), X_train, X_test, y_train, y_test))\n",
    "    \n",
    "    scores_rf.append(get_score(RandomForestClassifier(n_estimators=40), X_train, X_test, y_train, y_test))"
   ]
  },
  {
   "cell_type": "code",
   "execution_count": 25,
   "metadata": {},
   "outputs": [
    {
     "output_type": "stream",
     "name": "stdout",
     "text": [
      "\nAcuracia do Logistic Regression: \n [1.0, 0.9666666666666667, 0.9333333333333333, 0.9, 1.0]\n\nAcuracia do SVM: \n [0.9666666666666667, 1.0, 0.9666666666666667, 0.9666666666666667, 1.0]\n\nAcuracia do Random Forest: \n [0.9666666666666667, 0.9666666666666667, 0.9333333333333333, 0.9666666666666667, 1.0]\n"
     ]
    }
   ],
   "source": [
    "print(\"\\nAcuracia do Logistic Regression: \\n\", scores_logistic)\n",
    "print(\"\\nAcuracia do SVM: \\n\", scores_svm)\n",
    "print(\"\\nAcuracia do Random Forest: \\n\", scores_rf)"
   ]
  }
 ]
}
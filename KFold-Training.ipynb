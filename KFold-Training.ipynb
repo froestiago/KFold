{
 "metadata": {
  "language_info": {
   "codemirror_mode": {
    "name": "ipython",
    "version": 3
   },
   "file_extension": ".py",
   "mimetype": "text/x-python",
   "name": "python",
   "nbconvert_exporter": "python",
   "pygments_lexer": "ipython3",
   "version": "3.7.6-final"
  },
  "orig_nbformat": 2,
  "kernelspec": {
   "name": "python376jvsc74a57bd0e195ad74c1f1f25b431fdad758182e5c1b96f087f382f48f0b05b5503f70a0ae",
   "display_name": "Python 3.7.6 64-bit ('base': conda)"
  }
 },
 "nbformat": 4,
 "nbformat_minor": 2,
 "cells": [
  {
   "cell_type": "code",
   "execution_count": 157,
   "metadata": {},
   "outputs": [],
   "source": [
    "#Importa modelos\n",
    "from sklearn.linear_model import LogisticRegression\n",
    "from sklearn.svm import SVC\n",
    "from sklearn.ensemble import RandomForestClassifier\n",
    "\n",
    "from sklearn.metrics import confusion_matrix\n",
    "\n",
    "import numpy as np"
   ]
  },
  {
   "cell_type": "code",
   "execution_count": 158,
   "metadata": {},
   "outputs": [],
   "source": [
    "from sklearn.datasets import load_digits\n",
    "digits = load_digits()\n",
    "\n",
    "from sklearn.datasets import load_iris\n",
    "iris = load_iris()\n",
    "\n",
    "#escolhe dataset\n",
    "dt = digits"
   ]
  },
  {
   "cell_type": "code",
   "execution_count": 159,
   "metadata": {},
   "outputs": [],
   "source": [
    "#Estes metodos servem para matrizes não binárias\n",
    "#A fazer: um metodo que dado um elemento da matriz, transforma o \"resto\" da matriz toda em uma matriz binaria para melhor fazer a analise\n",
    "def accuracy(matrix):\n",
    "    trace = matrix.trace()\n",
    "    total_sum = matrix.sum()\n",
    "    accuracy = trace/total_sum\n",
    "    return accuracy\n",
    "\n",
    "def recall(matrix, element_index):\n",
    "    return matrix[element_index][element_index]/matrix[element_index].sum()"
   ]
  },
  {
   "cell_type": "code",
   "execution_count": 160,
   "metadata": {},
   "outputs": [],
   "source": [
    "#stratifiedKFold = KFold que conserva a % de cada classe nos folds\n",
    "from sklearn.model_selection import StratifiedKFold\n",
    "folds = StratifiedKFold(n_splits=5)\n",
    "\n",
    "#from sklearn.metrics import balanced_accuracy_score - não da diferença pois temos classes balanceadas\n",
    "\n",
    "scores_logistic = []\n",
    "scores_svm = []\n",
    "scores_rf = []\n",
    "\n",
    "cm_logistic = []\n",
    "cm_svm = []\n",
    "cm_rf = []\n",
    "\n",
    "for train_index, test_index in folds.split(dt.data,dt.target):\n",
    "    X_train, X_test, y_train, y_test = dt.data[train_index], dt.data[test_index], \\\n",
    "                                       dt.target[train_index], dt.target[test_index]\n",
    "    \n",
    "    #Logistic Regression\n",
    "    logistic_model = LogisticRegression(solver='liblinear',multi_class='ovr')\n",
    "    logistic_model.fit(X_train, y_train)\n",
    "\n",
    "    y_pred = logistic_model.predict(X_test)\n",
    "    cm = confusion_matrix(y_test, y_pred)\n",
    "\n",
    "    scores_logistic.append(logistic_model.score(X_test, y_test)) #.score() retorna accuracy\n",
    "    cm_logistic.append(cm)\n",
    "    \n",
    "\n",
    "    #SVM\n",
    "    svm_model = SVC(gamma='auto')\n",
    "    svm_model.fit(X_train, y_train)\n",
    "\n",
    "    y_pred = svm_model.predict(X_test)\n",
    "    cm = confusion_matrix(y_test, y_pred)\n",
    "\n",
    "    scores_svm.append(svm_model.score(X_test, y_test)) #.score() retorna accuracy\n",
    "    cm_svm.append(cm)\n",
    "    \n",
    "    #Random Forest\n",
    "    rf_model = RandomForestClassifier(n_estimators=40)\n",
    "    rf_model.fit(X_train, y_train)\n",
    "\n",
    "    y_pred = rf_model.predict(X_test)\n",
    "    cm = confusion_matrix(y_test, y_pred)\n",
    "    \n",
    "    scores_rf.append(rf_model.score(X_test, y_test)) #.score() retorna accuracy\n",
    "    cm_rf.append(cm)"
   ]
  },
  {
   "cell_type": "code",
   "execution_count": 161,
   "metadata": {},
   "outputs": [
    {
     "output_type": "stream",
     "name": "stdout",
     "text": [
      "Acuracia do Logistic Regression: [0.9222222222222223, 0.8833333333333333, 0.9526462395543176, 0.958217270194986, 0.8941504178272981]\nAcuracia média: 0.9221138966264315\nDesvio padrão: 0.030071839045894486\nErro:  [0.07777777777777772, 0.1166666666666667, 0.0473537604456824, 0.04178272980501396, 0.1058495821727019]\nErro Médio 0.07788610337356854\n"
     ]
    }
   ],
   "source": [
    "print(\"Acuracia do Logistic Regression:\", scores_logistic)\n",
    "print(\"Acuracia média:\", np.mean(scores_logistic))\n",
    "print(\"Desvio padrão:\", np.std(scores_logistic))\n",
    "erro = [1-i for i in scores_logistic]\n",
    "print(\"Erro: \", erro)\n",
    "print(\"Erro Médio\", np.mean(erro))"
   ]
  },
  {
   "cell_type": "code",
   "execution_count": 162,
   "metadata": {},
   "outputs": [
    {
     "output_type": "stream",
     "name": "stdout",
     "text": [
      "Acuracia do Logistic Regression: [0.4111111111111111, 0.45, 0.45403899721448465, 0.44846796657381616, 0.479108635097493]\nMédia: 0.448545341999381\nDesvio padrão: 0.02176115250475068\nErro:  [0.5888888888888889, 0.55, 0.5459610027855153, 0.5515320334261838, 0.520891364902507]\nErro Médio 0.551454658000619\n"
     ]
    }
   ],
   "source": [
    "print(\"Acuracia do Logistic Regression:\", scores_svm)\n",
    "print(\"Média:\", np.mean(scores_svm))\n",
    "print(\"Desvio padrão:\", np.std(scores_svm))\n",
    "erro = [1-i for i in scores_svm]\n",
    "print(\"Erro: \", erro)\n",
    "print(\"Erro Médio\", np.mean(erro))"
   ]
  },
  {
   "cell_type": "code",
   "execution_count": 163,
   "metadata": {},
   "outputs": [
    {
     "output_type": "stream",
     "name": "stdout",
     "text": [
      "Acuracia do Logistic Regression: [0.925, 0.8944444444444445, 0.9526462395543176, 0.9610027855153204, 0.9331476323119777]\nMédia: 0.9332482203652119\nDesvio padrão: 0.023325416686486897\nErro:  [0.07499999999999996, 0.10555555555555551, 0.0473537604456824, 0.03899721448467963, 0.06685236768802227]\nErro Médio 0.06675177963478796\n"
     ]
    }
   ],
   "source": [
    "print(\"Acuracia do Logistic Regression:\", scores_rf)\n",
    "print(\"Média:\", np.mean(scores_rf))\n",
    "print(\"Desvio padrão:\", np.std(scores_rf))\n",
    "erro = [1-i for i in scores_rf]\n",
    "print(\"Erro: \", erro)\n",
    "print(\"Erro Médio\", np.mean(erro))"
   ]
  },
  {
   "cell_type": "code",
   "execution_count": 164,
   "metadata": {},
   "outputs": [
    {
     "output_type": "execute_result",
     "data": {
      "text/plain": [
       "array([[35,  0,  0,  0,  1,  0,  0,  0,  0,  0],\n",
       "       [ 0, 34,  2,  0,  0,  0,  0,  0,  0,  0],\n",
       "       [ 0,  0, 35,  0,  0,  0,  0,  0,  0,  0],\n",
       "       [ 1,  0,  0, 35,  0,  0,  0,  0,  1,  0],\n",
       "       [ 0,  0,  0,  0, 35,  0,  0,  0,  0,  1],\n",
       "       [ 0,  0,  0,  0,  0, 34,  0,  0,  0,  3],\n",
       "       [ 1,  0,  0,  0,  0,  1, 34,  0,  0,  0],\n",
       "       [ 0,  0,  0,  0,  0,  0,  0, 36,  0,  0],\n",
       "       [ 0,  2,  2,  1,  0,  1,  0,  0, 28,  0],\n",
       "       [ 0,  0,  0,  0,  0,  0,  0,  0,  0, 36]])"
      ]
     },
     "metadata": {},
     "execution_count": 164
    }
   ],
   "source": [
    "#Exemplo confusion matrix\n",
    "cm_rf[2]"
   ]
  }
 ]
}
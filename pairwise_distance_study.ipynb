{
    "cells": [
        {
            "cell_type": "code",
            "execution_count": 2,
            "source": [
                "import numpy as np\n",
                "import pandas as pd\n",
                "\n",
                "%matplotlib inline\n",
                "import matplotlib as mpl\n",
                "import matplotlib.pyplot as plt\n",
                "mpl.rc('axes', labelsize=14)\n",
                "mpl.rc('xtick', labelsize=12)\n",
                "mpl.rc('ytick', labelsize=12)\n",
                "\n",
                "np.random.seed(42)"
            ],
            "outputs": [],
            "metadata": {}
        },
        {
            "cell_type": "code",
            "execution_count": 3,
            "source": [
                "def plot_clusters(X, y=None):\n",
                "    plt.scatter(X[:, 0], X[:, 1], c=y, s=1)\n",
                "    plt.xlabel(\"$x_1$\", fontsize=14)\n",
                "    plt.ylabel(\"$x_2$\", fontsize=14, rotation=0)"
            ],
            "outputs": [],
            "metadata": {}
        },
        {
            "cell_type": "code",
            "execution_count": 4,
            "source": [
                "from sklearn.datasets import make_blobs\n",
                "\n",
                "blob_centers = np.array(\n",
                "    [[ 0.2,  2.3],\n",
                "     [-1.5 ,  2.3],\n",
                "     [-2.8,  1.8],\n",
                "     [-2.8,  2.8],\n",
                "     [-2.8,  1.3]])\n",
                "blob_std = np.array([0.4, 0.3, 0.1, 0.1, 0.1])\n",
                "\n",
                "X, y = make_blobs(n_samples=2000, centers=blob_centers,\n",
                "                  cluster_std=blob_std, random_state=7)"
            ],
            "outputs": [],
            "metadata": {}
        },
        {
            "cell_type": "code",
            "execution_count": 5,
            "source": [
                "plt.figure(figsize=(8, 4))\n",
                "plot_clusters(X)\n",
                "plt.show()"
            ],
            "outputs": [
                {
                    "output_type": "display_data",
                    "data": {
                        "text/plain": [
                            "<Figure size 576x288 with 1 Axes>"
                        ],
                        "image/png": "[encoded data removed]"
                    },
                    "metadata": {
                        "needs_background": "light"
                    }
                }
            ],
            "metadata": {}
        },
        {
            "cell_type": "code",
            "execution_count": 6,
            "source": [
                "from sklearn.cluster import KMeans\n",
                "\n",
                "k = 5\n",
                "kmeans = KMeans(n_clusters=k)\n",
                "y_pred = kmeans.fit_predict(X)\n",
                "kmeans.score(X)"
            ],
            "outputs": [
                {
                    "output_type": "execute_result",
                    "data": {
                        "text/plain": [
                            "-211.59853725816856"
                        ]
                    },
                    "metadata": {},
                    "execution_count": 6
                }
            ],
            "metadata": {}
        },
        {
            "cell_type": "code",
            "execution_count": 7,
            "source": [
                "#Na mão\n",
                "from sklearn.metrics import pairwise_distances\n",
                "from sklearn.metrics import silhouette_samples\n",
                "\n",
                "euclideanDistances = pairwise_distances(X, metric='manhattan') #matriz de distâncias\n",
                "#silhouette samples com a matriz de distâncias\n",
                "silhouette_from_euclideanDistances = silhouette_samples(euclideanDistances, y_pred, metric='precomputed')\n",
                "silhouette_from_euclideanDistances[:10]"
            ],
            "outputs": [
                {
                    "output_type": "execute_result",
                    "data": {
                        "text/plain": [
                            "array([0.77153578, 0.81049298, 0.30152477, 0.78634798, 0.59787097,\n",
                            "       0.61949441, 0.82054085, 0.72154112, 0.59513596, 0.80760988])"
                        ]
                    },
                    "metadata": {},
                    "execution_count": 7
                }
            ],
            "metadata": {}
        },
        {
            "cell_type": "code",
            "execution_count": 8,
            "source": [
                "#passa as instâncias como parâmetro e calcula a matriz de distâncias automaticamente\n",
                "silhouette_straight = silhouette_samples(X, y_pred, metric='manhattan')\n",
                "silhouette_straight[:10]"
            ],
            "outputs": [
                {
                    "output_type": "execute_result",
                    "data": {
                        "text/plain": [
                            "array([0.77153578, 0.81049298, 0.30152477, 0.78634798, 0.59787097,\n",
                            "       0.61949441, 0.82054085, 0.72154112, 0.59513596, 0.80760988])"
                        ]
                    },
                    "metadata": {},
                    "execution_count": 8
                }
            ],
            "metadata": {}
        },
        {
            "cell_type": "code",
            "execution_count": 9,
            "source": [
                "#função para verificar que a saída dos dois metodos são os mesmos\n",
                "def equal_array(a, b):\n",
                "    i = 0\n",
                "    for x, y in zip(a, b):\n",
                "        if x == y:\n",
                "            i += 1\n",
                "    if i == len(a):\n",
                "        return True\n",
                "\n",
                "print(equal_array(silhouette_straight, silhouette_from_euclideanDistances))"
            ],
            "outputs": [
                {
                    "output_type": "stream",
                    "name": "stdout",
                    "text": [
                        "True\n"
                    ]
                }
            ],
            "metadata": {}
        }
    ],
    "metadata": {
        "orig_nbformat": 4,
        "language_info": {
            "name": "python",
            "version": "3.7.6",
            "mimetype": "text/x-python",
            "codemirror_mode": {
                "name": "ipython",
                "version": 3
            },
            "pygments_lexer": "ipython3",
            "nbconvert_exporter": "python",
            "file_extension": ".py"
        },
        "kernelspec": {
            "name": "python3",
            "display_name": "Python 3.7.6 64-bit ('base': conda)"
        },
        "interpreter": {
            "hash": "e195ad74c1f1f25b431fdad758182e5c1b96f087f382f48f0b05b5503f70a0ae"
        }
    },
    "nbformat": 4,
    "nbformat_minor": 2
}
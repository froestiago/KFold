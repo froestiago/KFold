{
 "metadata": {
  "language_info": {
   "codemirror_mode": {
    "name": "ipython",
    "version": 3
   },
   "file_extension": ".py",
   "mimetype": "text/x-python",
   "name": "python",
   "nbconvert_exporter": "python",
   "pygments_lexer": "ipython3",
   "version": "3.7.6-final"
  },
  "orig_nbformat": 2,
  "kernelspec": {
   "name": "python376jvsc74a57bd0e195ad74c1f1f25b431fdad758182e5c1b96f087f382f48f0b05b5503f70a0ae",
   "display_name": "Python 3.7.6 64-bit ('base': conda)"
  }
 },
 "nbformat": 4,
 "nbformat_minor": 2,
 "cells": [
  {
   "cell_type": "code",
   "execution_count": 2,
   "metadata": {},
   "outputs": [],
   "source": [
    "import numpy as np\n",
    "\n",
    "from sklearn.datasets import load_digits\n",
    "digits = load_digits()"
   ]
  },
  {
   "cell_type": "code",
   "execution_count": 3,
   "metadata": {},
   "outputs": [
    {
     "output_type": "execute_result",
     "data": {
      "text/plain": [
       "KFold(n_splits=5, random_state=None, shuffle=False)"
      ]
     },
     "metadata": {},
     "execution_count": 3
    }
   ],
   "source": [
    "from sklearn.model_selection import KFold\n",
    "kf = KFold(n_splits=5, shuffle = False)\n",
    "kf\n",
    "#Shuffle é dado como falso para consiguirmos enxergar melhor o funcionamento da divisão do metodo"
   ]
  },
  {
   "cell_type": "code",
   "execution_count": 4,
   "metadata": {},
   "outputs": [
    {
     "output_type": "stream",
     "name": "stdout",
     "text": [
      "Quantidade total de itens:  1797.0\n\nQuantidade de itens por label:  [178. 182. 177. 183. 181. 182. 181. 179. 174. 180.]\n\nDistribuição %. de itens por label\n0 - 9.905397885364495 %\n1 - 10.127991096271565 %\n2 - 9.84974958263773 %\n3 - 10.18363939899833 %\n4 - 10.072342793544797 %\n5 - 10.127991096271565 %\n6 - 10.072342793544797 %\n7 - 9.961046188091263 %\n8 - 9.68280467445743 %\n9 - 10.01669449081803 %\n"
     ]
    }
   ],
   "source": [
    "label_count = np.zeros(len(digits.target_names))\n",
    "\n",
    "for i in digits.target:\n",
    "    label_count[i] = label_count[i] + 1\n",
    "\n",
    "print(\"Quantidade total de itens: \", sum(label_count))\n",
    "\n",
    "print(\"\\nQuantidade de itens por label: \", label_count)\n",
    "\n",
    "print(\"\\nDistribuição %. de itens por label\")\n",
    "for i in digits.target_names:\n",
    "    print(i, '-', (label_count[i]/sum(label_count))*100, \"%\")"
   ]
  },
  {
   "cell_type": "code",
   "execution_count": 5,
   "metadata": {},
   "outputs": [],
   "source": [
    "#a variavel folds_indexes vai conter os indices dos elementos de treinamento e teste\n",
    "#a variavel folds_elements vai conter os elementos para treinamento e teste\n",
    "#na primeira lista os elementos para treinamento\n",
    "#na segunda lista os elementos para teste\n",
    "folds_indexes = [[],[]]\n",
    "folds_elements = [[],[]]\n",
    "\n",
    "#Neste loop que acontecera a partição do dataset, cada iterção é um conjunto de folds sendo usados\n",
    "for train_index, test_index in kf.split(digits.data):\n",
    "    folds_indexes[0].append(train_index)\n",
    "    folds_elements[0].append(digits.data[train_index])\n",
    "    \n",
    "    folds_indexes[1].append(test_index)\n",
    "    folds_elements[1].append(digits.data[test_index])"
   ]
  },
  {
   "cell_type": "code",
   "execution_count": 6,
   "metadata": {},
   "outputs": [
    {
     "output_type": "stream",
     "name": "stdout",
     "text": [
      "\n* * * Primeira iteração * * *\n\nConjunto de elementos de TESTE da primeira iteração:\nPrimeira fold\n [  0   1   2   3   4   5   6   7   8   9  10  11  12  13  14  15  16  17\n  18  19  20  21  22  23  24  25  26  27  28  29  30  31  32  33  34  35\n  36  37  38  39  40  41  42  43  44  45  46  47  48  49  50  51  52  53\n  54  55  56  57  58  59  60  61  62  63  64  65  66  67  68  69  70  71\n  72  73  74  75  76  77  78  79  80  81  82  83  84  85  86  87  88  89\n  90  91  92  93  94  95  96  97  98  99 100 101 102 103 104 105 106 107\n 108 109 110 111 112 113 114 115 116 117 118 119 120 121 122 123 124 125\n 126 127 128 129 130 131 132 133 134 135 136 137 138 139 140 141 142 143\n 144 145 146 147 148 149 150 151 152 153 154 155 156 157 158 159 160 161\n 162 163 164 165 166 167 168 169 170 171 172 173 174 175 176 177 178 179\n 180 181 182 183 184 185 186 187 188 189 190 191 192 193 194 195 196 197\n 198 199 200 201 202 203 204 205 206 207 208 209 210 211 212 213 214 215\n 216 217 218 219 220 221 222 223 224 225 226 227 228 229 230 231 232 233\n 234 235 236 237 238 239 240 241 242 243 244 245 246 247 248 249 250 251\n 252 253 254 255 256 257 258 259 260 261 262 263 264 265 266 267 268 269\n 270 271 272 273 274 275 276 277 278 279 280 281 282 283 284 285 286 287\n 288 289 290 291 292 293 294 295 296 297 298 299 300 301 302 303 304 305\n 306 307 308 309 310 311 312 313 314 315 316 317 318 319 320 321 322 323\n 324 325 326 327 328 329 330 331 332 333 334 335 336 337 338 339 340 341\n 342 343 344 345 346 347 348 349 350 351 352 353 354 355 356 357 358 359]\n\nTamanho do conjunto de TESTE:  360\n\nConjunto de elementos de TREINAMENTO da primeira iteração:\n [ 360  361  362 ... 1794 1795 1796]\n\nTamanho do conjunto de TREINAMENTO:  1437\n"
     ]
    }
   ],
   "source": [
    "#Como podemos ver aqui, o conjunto de elementos de teste da primeira iteração é o primeiro quinto do dataset original, ou seja, o primeiro fold\n",
    "#E os outros k-1 folds os elementos de treinamento\n",
    "print(\"\\n* * * Primeira iteração * * *\")\n",
    "print(\"\\nConjunto de elementos de TESTE da primeira iteração:\")\n",
    "print(\"Primeira fold\\n\", folds_indexes[1][0])\n",
    "print(\"\\nTamanho do conjunto de TESTE: \", len(folds_indexes[1][0]))\n",
    "print(\"\\nConjunto de elementos de TREINAMENTO da primeira iteração:\\n\", folds_indexes[0][0])\n",
    "print(\"\\nTamanho do conjunto de TREINAMENTO: \", len(folds_indexes[0][0]))"
   ]
  },
  {
   "cell_type": "code",
   "execution_count": null,
   "metadata": {},
   "outputs": [],
   "source": []
  },
  {
   "cell_type": "code",
   "execution_count": null,
   "metadata": {},
   "outputs": [],
   "source": []
  },
  {
   "cell_type": "code",
   "execution_count": null,
   "metadata": {},
   "outputs": [],
   "source": []
  }
 ]
}
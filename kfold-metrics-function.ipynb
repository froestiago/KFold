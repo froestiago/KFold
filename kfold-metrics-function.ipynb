{
 "metadata": {
  "language_info": {
   "codemirror_mode": {
    "name": "ipython",
    "version": 3
   },
   "file_extension": ".py",
   "mimetype": "text/x-python",
   "name": "python",
   "nbconvert_exporter": "python",
   "pygments_lexer": "ipython3",
   "version": "3.7.6"
  },
  "orig_nbformat": 4,
  "kernelspec": {
   "name": "python3",
   "display_name": "Python 3.7.6 64-bit ('base': conda)"
  },
  "interpreter": {
   "hash": "e195ad74c1f1f25b431fdad758182e5c1b96f087f382f48f0b05b5503f70a0ae"
  }
 },
 "nbformat": 4,
 "nbformat_minor": 2,
 "cells": [
  {
   "cell_type": "code",
   "execution_count": 2,
   "metadata": {},
   "outputs": [],
   "source": [
    "#Importa modelos\n",
    "from sklearn.linear_model import LogisticRegression\n",
    "from sklearn.svm import SVC\n",
    "from sklearn.ensemble import RandomForestClassifier\n",
    "\n",
    "from sklearn.metrics import confusion_matrix\n",
    "from sklearn.model_selection import StratifiedKFold\n",
    "from sklearn import metrics\n",
    "\n",
    "import numpy as np\n",
    "import pandas as pd\n",
    "\n",
    "import matplotlib as mpl\n",
    "import matplotlib.pyplot as plt\n",
    "\n",
    "#from pmlb import fetch_data"
   ]
  },
  {
   "cell_type": "code",
   "execution_count": 12,
   "metadata": {},
   "outputs": [],
   "source": [
    "def metricsExtraction(X, y, model, nFolds):\n",
    "    #dicionário para armazenar os folds e as metricas de cada iteração\n",
    "    metrics_dict = {'Train Index' : [],\n",
    "                    'Test Index' : [],\n",
    "                    'Confusion Matrix' : [],\n",
    "                    'Accuracy' : [],\n",
    "                    'Error' : [],\n",
    "                    'Recall' : [],\n",
    "                    'Precision' : [],\n",
    "                    'MCC' : [],\n",
    "                    'F1' : [],\n",
    "                    'Kappa' : [],\n",
    "                    'ROC AUC' : []}\n",
    "    \n",
    "    folds = StratifiedKFold(n_splits=nFolds, shuffle=True)\n",
    "    for train_index, test_index in folds.split(X, y):\n",
    "        X_train, X_test, y_train, y_test = X[train_index], X[test_index], y[train_index], y[test_index]\n",
    "\n",
    "        #Folds indexes\n",
    "        metrics_dict['Train Index'].append(train_index)\n",
    "        metrics_dict['Test Index'].append(test_index)\n",
    "\n",
    "        #Treina modelo\n",
    "        model.fit(X_train, y_train)\n",
    "\n",
    "        #faz predição no test set\n",
    "        y_pred = model.predict(X_test)\n",
    "        y_pred_prob = model.predict_proba(X_test)\n",
    "\n",
    "        #Confusion Matrix\n",
    "        cm = confusion_matrix(y_test, y_pred)\n",
    "        metrics_dict['Confusion Matrix'].append(cm)\n",
    "\n",
    "        #Metrics extraction\n",
    "        acc = metrics.accuracy_score(y_test, y_pred)\n",
    "        metrics_dict['Accuracy'].append(acc)\n",
    "        metrics_dict['Error'].append(1-acc)\n",
    "        metrics_dict['Recall'].append(metrics.recall_score(y_test, y_pred, average='weighted')) #sensibilidade\n",
    "        metrics_dict['Precision'].append(metrics.precision_score(y_test, y_pred, average='weighted'))\n",
    "        metrics_dict['MCC'].append(metrics.matthews_corrcoef(y_test, y_pred))\n",
    "        metrics_dict['F1'].append(metrics.f1_score(y_test, y_pred, average='weighted'))\n",
    "        metrics_dict['Kappa'].append(metrics.cohen_kappa_score(y_test, y_pred))\n",
    "        metrics_dict['ROC AUC'].append(metrics.roc_auc_score(y_test, y_pred_prob, multi_class='ovr', average='weighted'))\n",
    "\n",
    "    dataframe = pd.DataFrame.from_dict(metrics_dict)\n",
    "    return dataframe\n",
    "        #dataframe.to_csv('metrics.csv', float_format='%.10f')"
   ]
  },
  {
   "cell_type": "code",
   "execution_count": 13,
   "metadata": {},
   "outputs": [],
   "source": [
    "from sklearn.datasets import load_iris\n",
    "iris = load_iris()\n",
    "\n",
    "model = RandomForestClassifier()\n",
    "\n",
    "df = metricsExtraction(iris.data, iris.target, model, 5)"
   ]
  },
  {
   "cell_type": "code",
   "execution_count": 14,
   "metadata": {},
   "outputs": [
    {
     "output_type": "execute_result",
     "data": {
      "text/plain": [
       "                                         Train Index  \\\n",
       "0  [0, 2, 3, 4, 6, 7, 8, 9, 10, 11, 12, 13, 18, 1...   \n",
       "1  [0, 1, 4, 5, 6, 7, 8, 9, 10, 11, 12, 13, 14, 1...   \n",
       "2  [0, 1, 2, 3, 4, 5, 6, 7, 8, 9, 10, 11, 12, 13,...   \n",
       "3  [1, 2, 3, 5, 6, 7, 8, 11, 12, 13, 14, 15, 16, ...   \n",
       "4  [0, 1, 2, 3, 4, 5, 9, 10, 14, 15, 16, 17, 18, ...   \n",
       "\n",
       "                                          Test Index  \\\n",
       "0  [1, 5, 14, 15, 16, 17, 20, 22, 29, 37, 56, 68,...   \n",
       "1  [2, 3, 18, 24, 25, 30, 31, 41, 45, 48, 51, 53,...   \n",
       "2  [26, 33, 34, 35, 38, 40, 44, 46, 47, 49, 52, 6...   \n",
       "3  [0, 4, 9, 10, 19, 27, 28, 32, 42, 43, 62, 65, ...   \n",
       "4  [6, 7, 8, 11, 12, 13, 21, 23, 36, 39, 50, 54, ...   \n",
       "\n",
       "                       Confusion Matrix  Accuracy     Error    Recall  \\\n",
       "0    [[10, 0, 0], [0, 8, 2], [0, 1, 9]]  0.900000  0.100000  0.900000   \n",
       "1   [[10, 0, 0], [0, 10, 0], [0, 2, 8]]  0.933333  0.066667  0.933333   \n",
       "2   [[10, 0, 0], [0, 10, 0], [0, 1, 9]]  0.966667  0.033333  0.966667   \n",
       "3   [[10, 0, 0], [0, 8, 2], [0, 0, 10]]  0.933333  0.066667  0.933333   \n",
       "4  [[10, 0, 0], [0, 10, 0], [0, 0, 10]]  1.000000  0.000000  1.000000   \n",
       "\n",
       "   Precision       MCC        F1  Kappa   ROC AUC  \n",
       "0   0.902357  0.851420  0.899749   0.85  0.976667  \n",
       "1   0.944444  0.906061  0.932660   0.90  1.000000  \n",
       "2   0.969697  0.951587  0.966583   0.95  1.000000  \n",
       "3   0.944444  0.906061  0.932660   0.90  0.990000  \n",
       "4   1.000000  1.000000  1.000000   1.00  1.000000  "
      ],
      "text/html": "<div>\n<style scoped>\n    .dataframe tbody tr th:only-of-type {\n        vertical-align: middle;\n    }\n\n    .dataframe tbody tr th {\n        vertical-align: top;\n    }\n\n    .dataframe thead th {\n        text-align: right;\n    }\n</style>\n<table border=\"1\" class=\"dataframe\">\n  <thead>\n    <tr style=\"text-align: right;\">\n      <th></th>\n      <th>Train Index</th>\n      <th>Test Index</th>\n      <th>Confusion Matrix</th>\n      <th>Accuracy</th>\n      <th>Error</th>\n      <th>Recall</th>\n      <th>Precision</th>\n      <th>MCC</th>\n      <th>F1</th>\n      <th>Kappa</th>\n      <th>ROC AUC</th>\n    </tr>\n  </thead>\n  <tbody>\n    <tr>\n      <th>0</th>\n      <td>[0, 2, 3, 4, 6, 7, 8, 9, 10, 11, 12, 13, 18, 1...</td>\n      <td>[1, 5, 14, 15, 16, 17, 20, 22, 29, 37, 56, 68,...</td>\n      <td>[[10, 0, 0], [0, 8, 2], [0, 1, 9]]</td>\n      <td>0.900000</td>\n      <td>0.100000</td>\n      <td>0.900000</td>\n      <td>0.902357</td>\n      <td>0.851420</td>\n      <td>0.899749</td>\n      <td>0.85</td>\n      <td>0.976667</td>\n    </tr>\n    <tr>\n      <th>1</th>\n      <td>[0, 1, 4, 5, 6, 7, 8, 9, 10, 11, 12, 13, 14, 1...</td>\n      <td>[2, 3, 18, 24, 25, 30, 31, 41, 45, 48, 51, 53,...</td>\n      <td>[[10, 0, 0], [0, 10, 0], [0, 2, 8]]</td>\n      <td>0.933333</td>\n      <td>0.066667</td>\n      <td>0.933333</td>\n      <td>0.944444</td>\n      <td>0.906061</td>\n      <td>0.932660</td>\n      <td>0.90</td>\n      <td>1.000000</td>\n    </tr>\n    <tr>\n      <th>2</th>\n      <td>[0, 1, 2, 3, 4, 5, 6, 7, 8, 9, 10, 11, 12, 13,...</td>\n      <td>[26, 33, 34, 35, 38, 40, 44, 46, 47, 49, 52, 6...</td>\n      <td>[[10, 0, 0], [0, 10, 0], [0, 1, 9]]</td>\n      <td>0.966667</td>\n      <td>0.033333</td>\n      <td>0.966667</td>\n      <td>0.969697</td>\n      <td>0.951587</td>\n      <td>0.966583</td>\n      <td>0.95</td>\n      <td>1.000000</td>\n    </tr>\n    <tr>\n      <th>3</th>\n      <td>[1, 2, 3, 5, 6, 7, 8, 11, 12, 13, 14, 15, 16, ...</td>\n      <td>[0, 4, 9, 10, 19, 27, 28, 32, 42, 43, 62, 65, ...</td>\n      <td>[[10, 0, 0], [0, 8, 2], [0, 0, 10]]</td>\n      <td>0.933333</td>\n      <td>0.066667</td>\n      <td>0.933333</td>\n      <td>0.944444</td>\n      <td>0.906061</td>\n      <td>0.932660</td>\n      <td>0.90</td>\n      <td>0.990000</td>\n    </tr>\n    <tr>\n      <th>4</th>\n      <td>[0, 1, 2, 3, 4, 5, 9, 10, 14, 15, 16, 17, 18, ...</td>\n      <td>[6, 7, 8, 11, 12, 13, 21, 23, 36, 39, 50, 54, ...</td>\n      <td>[[10, 0, 0], [0, 10, 0], [0, 0, 10]]</td>\n      <td>1.000000</td>\n      <td>0.000000</td>\n      <td>1.000000</td>\n      <td>1.000000</td>\n      <td>1.000000</td>\n      <td>1.000000</td>\n      <td>1.00</td>\n      <td>1.000000</td>\n    </tr>\n  </tbody>\n</table>\n</div>"
     },
     "metadata": {},
     "execution_count": 14
    }
   ],
   "source": [
    "df"
   ]
  },
  {
   "cell_type": "code",
   "execution_count": null,
   "metadata": {},
   "outputs": [],
   "source": []
  }
 ]
}